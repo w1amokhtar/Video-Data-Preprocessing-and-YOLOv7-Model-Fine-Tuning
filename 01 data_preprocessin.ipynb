{
  "cells": [
    {
      "cell_type": "markdown",
      "id": "303a298e",
      "metadata": {
        "id": "303a298e"
      },
      "source": [
        "# Video Data Preprocessing for YOLOv7"
      ]
    },
    {
      "cell_type": "markdown",
      "id": "ad6861e2",
      "metadata": {
        "id": "ad6861e2"
      },
      "source": [
        "## imports"
      ]
    },
    {
      "cell_type": "code",
      "execution_count": null,
      "id": "2e8aef85",
      "metadata": {
        "id": "2e8aef85"
      },
      "outputs": [],
      "source": [
        "import os\n",
        "import cv2\n",
        "import numpy as np\n",
        "from openpyxl import load_workbook\n",
        "import json\n",
        "import pandas as pd\n",
        "from sklearn.model_selection import train_test_split\n",
        "import shutil\n",
        "from pylabel import importer\n"
      ]
    },
    {
      "cell_type": "markdown",
      "id": "db9b187e",
      "metadata": {
        "id": "db9b187e"
      },
      "source": [
        "## 1- Extract frames from videos (using ffmpeg)\n",
        "All frames are placed in one folder"
      ]
    },
    {
      "cell_type": "code",
      "execution_count": null,
      "id": "4e74dc42",
      "metadata": {
        "id": "4e74dc42"
      },
      "outputs": [],
      "source": [
        "# cd to the output folder\n",
        "#Run the command\n",
        "!ffmpeg -i input\\video\\path.mp4 -vf fps= num-of-frames-per-second %04d.jpg"
      ]
    },
    {
      "cell_type": "markdown",
      "source": [
        "## 2- Label Frames using Label Studio\n",
        " https://labelstud.io/guide/index.html#Quick-start\n"
      ],
      "metadata": {
        "id": "Jbu9wy3JUEGH"
      },
      "id": "Jbu9wy3JUEGH"
    },
    {
      "cell_type": "markdown",
      "id": "b633568f",
      "metadata": {
        "id": "b633568f"
      },
      "source": [
        "## 3- Split frames and labels into train/val/test"
      ]
    },
    {
      "cell_type": "code",
      "source": [
        "# Read images and annotations\n",
        "images = [os.path.join('images', x) for x in os.listdir('images')]\n",
        "annotations = [os.path.join('labels', x) for x in os.listdir('labels') if x[-3:] == \"txt\"]\n",
        "\n",
        "images.sort()\n",
        "annotations.sort()\n",
        "\n",
        "# Split the dataset into train-valid-test splits\n",
        "train_images, val_images, train_annotations, val_annotations = train_test_split(images, annotations, test_size = 0.4, random_state = 1)\n",
        "val_images, test_images, val_annotations, test_annotations = train_test_split(val_images, val_annotations, test_size = 0.25, random_state = 1) #.25*.40=.1"
      ],
      "metadata": {
        "id": "qnGhEHDXUXrm"
      },
      "id": "qnGhEHDXUXrm",
      "execution_count": null,
      "outputs": []
    },
    {
      "cell_type": "markdown",
      "source": [
        "the following function will place each set of images and labels in the proper folder (train/val/test)"
      ],
      "metadata": {
        "id": "wPX-5wdfUved"
      },
      "id": "wPX-5wdfUved"
    },
    {
      "cell_type": "code",
      "source": [
        "def move_file(array_of_names, dest):\n",
        "    for original_path in array_of_names:\n",
        "        file_name=original_path.split(\"\\\\\")\n",
        "        shutil.copyfile(original_path, dest+file_name[1])"
      ],
      "metadata": {
        "id": "ayTEjpRaUoHV"
      },
      "id": "ayTEjpRaUoHV",
      "execution_count": null,
      "outputs": []
    }
  ],
  "metadata": {
    "kernelspec": {
      "display_name": "Python 3 (ipykernel)",
      "language": "python",
      "name": "python3"
    },
    "language_info": {
      "codemirror_mode": {
        "name": "ipython",
        "version": 3
      },
      "file_extension": ".py",
      "mimetype": "text/x-python",
      "name": "python",
      "nbconvert_exporter": "python",
      "pygments_lexer": "ipython3",
      "version": "3.9.13"
    },
    "colab": {
      "provenance": []
    }
  },
  "nbformat": 4,
  "nbformat_minor": 5
}