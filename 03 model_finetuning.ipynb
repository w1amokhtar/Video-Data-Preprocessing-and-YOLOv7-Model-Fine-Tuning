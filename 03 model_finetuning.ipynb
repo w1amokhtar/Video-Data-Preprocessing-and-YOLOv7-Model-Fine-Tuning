{
  "cells": [
    {
      "cell_type": "markdown",
      "metadata": {
        "id": "kAaZ3a5n4e5V"
      },
      "source": [
        "# **03Run_YOLO**"
      ]
    },
    {
      "cell_type": "markdown",
      "metadata": {
        "id": "3k7CW67J8pRC"
      },
      "source": [
        "## **Clone Repository**"
      ]
    },
    {
      "cell_type": "code",
      "execution_count": null,
      "metadata": {
        "id": "kQhs-tDc4hy1"
      },
      "outputs": [],
      "source": [
        "!git clone https://github.com/WongKinYiu/yolov7.git"
      ]
    },
    {
      "cell_type": "code",
      "execution_count": null,
      "metadata": {
        "id": "vl0vz8wH4uaF"
      },
      "outputs": [],
      "source": [
        "#rename folder\n",
        "! mv yolov7 yolov7-new"
      ]
    },
    {
      "cell_type": "markdown",
      "metadata": {
        "id": "7JMujnM98znV"
      },
      "source": [
        "## **install requirements**"
      ]
    },
    {
      "cell_type": "code",
      "execution_count": null,
      "metadata": {
        "id": "mdCnV-905XpK"
      },
      "outputs": [],
      "source": [
        "%cd /content/yolov7-new\n",
        "!pip install -r requirements.txt"
      ]
    },
    {
      "cell_type": "code",
      "execution_count": null,
      "metadata": {
        "id": "A4ieGo2a7pK4"
      },
      "outputs": [],
      "source": [
        "!pip install torch==1.11.0+cu113 torchvision==0.12.0+cu113 torchaudio==0.11.0 --extra-index-url https://download.pytorch.org/whl/cu113"
      ]
    },
    {
      "cell_type": "markdown",
      "metadata": {
        "id": "HOCjcXU686dM"
      },
      "source": [
        "## **upload dataset from google drive**"
      ]
    },
    {
      "cell_type": "code",
      "execution_count": null,
      "metadata": {
        "id": "ZALt7l3P8ueb"
      },
      "outputs": [],
      "source": [
        "#get training/validation/ testingfiles from google drive\n",
        "from google.colab import drive\n",
        "drive.mount('/content/drive')"
      ]
    },
    {
      "cell_type": "code",
      "execution_count": null,
      "metadata": {
        "id": "FBOoUnt29mMQ"
      },
      "outputs": [],
      "source": [
        "#move training and validation files (images and labels)\n",
        "!cp -r \"/content/drive/MyDrive/dataset-augmentation/train\" \"/content/yolov7-new/data\"\n",
        "!cp -r \"/content/drive/MyDrive/dataset-augmentation/val\" \"/content/yolov7-new/data\"\n",
        "!cp -r \"/content/drive/MyDrive/dataset-augmentation/test\" \"/content/yolov7-new/data\""
      ]
    },
    {
      "cell_type": "markdown",
      "metadata": {
        "id": "MCueJdU29B6o"
      },
      "source": [
        "## **Modify files to match the new dataset**"
      ]
    },
    {
      "cell_type": "code",
      "execution_count": null,
      "metadata": {
        "id": "ed2fMPVrBdHc"
      },
      "outputs": [],
      "source": [
        "#modify coco.yaml file in data folder\n",
        "#delete first 4 lines\n",
        "#specify train and val and test folder paths\n",
        "#modify number of classes\n",
        "#modify names of classes"
      ]
    },
    {
      "cell_type": "code",
      "execution_count": null,
      "metadata": {
        "id": "FQDF9YYjHM0E"
      },
      "outputs": [],
      "source": [
        "#modify yolov7.yaml\n",
        "#change the number of classes"
      ]
    },
    {
      "cell_type": "markdown",
      "metadata": {
        "id": "CEZZGubY9Sv3"
      },
      "source": [
        "## **Upload yolov7 weights**"
      ]
    },
    {
      "cell_type": "code",
      "execution_count": null,
      "metadata": {
        "id": "Xp-8n8Z1IK-P"
      },
      "outputs": [],
      "source": [
        "#get yolov7 weights\n",
        "!cp -r \"/content/drive/MyDrive/yolov7.pt\" \"/content/yolov7-new\""
      ]
    },
    {
      "cell_type": "code",
      "execution_count": null,
      "metadata": {
        "id": "fU_bCh6nQypk"
      },
      "outputs": [],
      "source": [
        "!pwd\n",
        "#should be yolov7-new"
      ]
    },
    {
      "cell_type": "markdown",
      "metadata": {
        "id": "gU41gM1b9mic"
      },
      "source": [
        "## **train the model on HAJJ dataset**"
      ]
    },
    {
      "cell_type": "code",
      "execution_count": null,
      "metadata": {
        "id": "s_L7aO21QZuC"
      },
      "outputs": [],
      "source": [
        "!python train.py --workers 1 --device 0 --batch-size 16 --epochs 100 --img 640 640 --data data/coco.yaml --hyp data/hyp.scratch.custom.yaml --cfg cfg/training/yolov7.yaml --name yolov7-new --weights yolov7.pt"
      ]
    },
    {
      "cell_type": "code",
      "execution_count": null,
      "metadata": {
        "id": "j4xz9Oc8VveB"
      },
      "outputs": [],
      "source": [
        "!cp -r \"/content/yolov7-new\" \"/content/drive/MyDrive\""
      ]
    },
    {
      "cell_type": "code",
      "execution_count": null,
      "metadata": {
        "id": "b-nKwsdAWN9U"
      },
      "outputs": [],
      "source": [
        "!python test.py --weights runs/train/yolov7-new/weights/best.pt --data data/coco.yaml --task test --name yolo-new-test"
      ]
    },
    {
      "cell_type": "markdown",
      "metadata": {
        "id": "CDYCBtp79ukh"
      },
      "source": [
        "## **inference**"
      ]
    },
    {
      "cell_type": "code",
      "execution_count": null,
      "metadata": {
        "id": "qhl_8tZjrmFD"
      },
      "outputs": [],
      "source": [
        "import shutil"
      ]
    },
    {
      "cell_type": "code",
      "execution_count": null,
      "metadata": {
        "id": "I4zisLmDraLr"
      },
      "outputs": [],
      "source": [
        "!cp -r \"/content/drive/MyDrive/yolov7-new/runs/train/yolov7-new/weights/best.pt\" \"/content/yolov7-new\""
      ]
    },
    {
      "cell_type": "code",
      "execution_count": null,
      "metadata": {
        "id": "pcw0sq603nSx"
      },
      "outputs": [],
      "source": [
        "!cp -r \"/content/drive/MyDrive/2.mp4\" \"/content/yolov7-new\""
      ]
    },
    {
      "cell_type": "code",
      "execution_count": null,
      "metadata": {
        "id": "ZsuapGRApeNR"
      },
      "outputs": [],
      "source": [
        "!python detect.py --weights /content/yolov7-new/best.pt --conf 0.5 --img-size 640 --source 2.MP4"
      ]
    },
    {
      "cell_type": "code",
      "execution_count": null,
      "metadata": {
        "id": "0L2GtD0etbzO"
      },
      "outputs": [],
      "source": [
        "!git clone https://github.com/haroonshakeel/yolov7-object-tracking"
      ]
    },
    {
      "cell_type": "code",
      "execution_count": null,
      "metadata": {
        "id": "lhj2lceJCZPf"
      },
      "outputs": [],
      "source": [
        "!cp -r \"/content/drive/MyDrive/027.mp4\" \"/content/Yolov7-Custom\""
      ]
    },
    {
      "cell_type": "code",
      "execution_count": null,
      "metadata": {
        "id": "jnqFtoyUDvZi"
      },
      "outputs": [],
      "source": [
        "%cd /content/Yolov7-Custom"
      ]
    },
    {
      "cell_type": "code",
      "execution_count": null,
      "metadata": {
        "id": "9PrRASGACQuL"
      },
      "outputs": [],
      "source": [
        "!python detect.py --weights /content/Yolov7-Custom/best.pt --conf 0.5 --img-size 640 --source 027.mp4"
      ]
    },
    {
      "cell_type": "code",
      "execution_count": null,
      "metadata": {
        "id": "WSoqSbQ-DTVn"
      },
      "outputs": [],
      "source": [
        "!cp -r \"/content/Yolov7-Custom/runs/detect/exp/027.mp4\" \"/content/drive/MyDrive\""
      ]
    }
  ],
  "metadata": {
    "colab": {
      "collapsed_sections": [
        "kAaZ3a5n4e5V",
        "3k7CW67J8pRC",
        "7JMujnM98znV",
        "HOCjcXU686dM",
        "MCueJdU29B6o",
        "CEZZGubY9Sv3",
        "gU41gM1b9mic",
        "CDYCBtp79ukh",
        "VpeS9QeM7usg"
      ],
      "provenance": [],
      "gpuClass": "premium"
    },
    "gpuClass": "premium",
    "kernelspec": {
      "display_name": "Python 3 (ipykernel)",
      "language": "python",
      "name": "python3"
    },
    "language_info": {
      "codemirror_mode": {
        "name": "ipython",
        "version": 3
      },
      "file_extension": ".py",
      "mimetype": "text/x-python",
      "name": "python",
      "nbconvert_exporter": "python",
      "pygments_lexer": "ipython3",
      "version": "3.9.13"
    }
  },
  "nbformat": 4,
  "nbformat_minor": 0
}