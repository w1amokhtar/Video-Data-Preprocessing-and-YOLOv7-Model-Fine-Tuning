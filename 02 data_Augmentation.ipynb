{
  "cells": [
    {
      "cell_type": "markdown",
      "id": "3c491dcb",
      "metadata": {
        "id": "3c491dcb"
      },
      "source": [
        "# Data Augmentation: 45-90 degree rotaion, noise, contrast\n",
        "Applied to train and validation data"
      ]
    },
    {
      "cell_type": "markdown",
      "id": "9a8026fa",
      "metadata": {
        "id": "9a8026fa"
      },
      "source": [
        "## Importing library"
      ]
    },
    {
      "cell_type": "code",
      "execution_count": null,
      "id": "8f322bb0",
      "metadata": {
        "id": "8f322bb0"
      },
      "outputs": [],
      "source": [
        "import os\n",
        "import numpy as np\n",
        "import cv2\n",
        "import argparse\n",
        "import time\n",
        "from tqdm import tqdm\n",
        "from skimage.util import random_noise\n",
        "from PIL import Image, ImageEnhance, ImageFilter"
      ]
    },
    {
      "cell_type": "markdown",
      "id": "c11166bd",
      "metadata": {
        "id": "c11166bd"
      },
      "source": [
        "## convert yolo format to opencv format to rotate bounding boxes"
      ]
    },
    {
      "cell_type": "code",
      "execution_count": null,
      "id": "17d15549",
      "metadata": {
        "id": "17d15549"
      },
      "outputs": [],
      "source": [
        "#convert from Yolo_mark to opencv format\n",
        "def yoloFormattocv(x1, y1, x2, y2, H, W):\n",
        "    bbox_width = x2 * W\n",
        "    bbox_height = y2 * H\n",
        "    center_x = x1 * W\n",
        "    center_y = y1 * H\n",
        "    voc = []\n",
        "    voc.append(center_x - (bbox_width / 2))\n",
        "    voc.append(center_y - (bbox_height / 2))\n",
        "    voc.append(center_x + (bbox_width / 2))\n",
        "    voc.append(center_y + (bbox_height / 2))\n",
        "    return [int(v) for v in voc]"
      ]
    },
    {
      "cell_type": "markdown",
      "id": "9b2dec6f",
      "metadata": {
        "id": "9b2dec6f"
      },
      "source": [
        "## convert opencv to yolo: for after rotating"
      ]
    },
    {
      "cell_type": "code",
      "execution_count": null,
      "id": "da7576f2",
      "metadata": {
        "id": "da7576f2"
      },
      "outputs": [],
      "source": [
        "\n",
        "# Convert from opencv format to yolo format\n",
        "# H,W is the image height and width\n",
        "def cvFormattoYolo(corner, H, W):\n",
        "    bbox_W = corner[3] - corner[1]\n",
        "    bbox_H = corner[4] - corner[2]\n",
        "    center_bbox_x = (corner[1] + corner[3]) / 2\n",
        "    center_bbox_y = (corner[2] + corner[4]) / 2\n",
        "    return corner[0], round(center_bbox_x / W, 6), round(center_bbox_y / H, 6), round(bbox_W / W, 6),round(bbox_H / H, 6)\n",
        ""
      ]
    },
    {
      "cell_type": "markdown",
      "id": "fc045c6b",
      "metadata": {
        "id": "fc045c6b"
      },
      "source": [
        "## functions for rotating images and bounding boxes (this is not my code)"
      ]
    },
    {
      "cell_type": "code",
      "execution_count": null,
      "id": "1c5a3c4b",
      "metadata": {
        "id": "1c5a3c4b"
      },
      "outputs": [],
      "source": [
        "class yoloRotatebbox:\n",
        "    def __init__(self, filename, image_ext, angle):\n",
        "        assert os.path.isfile(filename + image_ext)\n",
        "        assert os.path.isfile(filename + '.txt')\n",
        "\n",
        "        self.filename = filename\n",
        "        self.image_ext = image_ext\n",
        "        self.angle = angle\n",
        "\n",
        "        # Read image using cv2\n",
        "        self.image = cv2.imread(self.filename + self.image_ext, 1)\n",
        "\n",
        "        rotation_angle = self.angle * np.pi / 180\n",
        "        self.rot_matrix = np.array(\n",
        "            [[np.cos(rotation_angle), -np.sin(rotation_angle)], [np.sin(rotation_angle), np.cos(rotation_angle)]])\n",
        "    def rotateYolobbox(self):\n",
        "        new_height, new_width = self.rotate_image().shape[:2]\n",
        "        f = open(self.filename + '.txt', 'r')\n",
        "        f1 = f.readlines()\n",
        "        new_bbox = []\n",
        "        H, W = self.image.shape[:2]\n",
        "        for x in f1:\n",
        "            bbox = x.strip('\\n').split(' ')\n",
        "            if len(bbox) > 1:\n",
        "                (center_x, center_y, bbox_width, bbox_height) = yoloFormattocv(float(bbox[1]), float(bbox[2]),\n",
        "                                                                               float(bbox[3]), float(bbox[4]), H, W)\n",
        "                upper_left_corner_shift = (center_x - W / 2, -H / 2 + center_y)\n",
        "                upper_right_corner_shift = (bbox_width - W / 2, -H / 2 + center_y)\n",
        "                lower_left_corner_shift = (center_x - W / 2, -H / 2 + bbox_height)\n",
        "                lower_right_corner_shift = (bbox_width - W / 2, -H / 2 + bbox_height)\n",
        "                new_lower_right_corner = [-1, -1]\n",
        "                new_upper_left_corner = []\n",
        "                for i in (upper_left_corner_shift, upper_right_corner_shift, lower_left_corner_shift,\n",
        "                          lower_right_corner_shift):\n",
        "                    new_coords = np.matmul(self.rot_matrix, np.array((i[0], -i[1])))\n",
        "                    x_prime, y_prime = new_width / 2 + new_coords[0], new_height / 2 - new_coords[1]\n",
        "                    if new_lower_right_corner[0] < x_prime:\n",
        "                        new_lower_right_corner[0] = x_prime\n",
        "                    if new_lower_right_corner[1] < y_prime:\n",
        "                        new_lower_right_corner[1] = y_prime\n",
        "                    if len(new_upper_left_corner) > 0:\n",
        "                        if new_upper_left_corner[0] > x_prime:\n",
        "                            new_upper_left_corner[0] = x_prime\n",
        "                        if new_upper_left_corner[1] > y_prime:\n",
        "                            new_upper_left_corner[1] = y_prime\n",
        "                    else:\n",
        "                        new_upper_left_corner.append(x_prime)\n",
        "                        new_upper_left_corner.append(y_prime)\n",
        "                #             print(x_prime, y_prime)\n",
        "                new_bbox.append([bbox[0], new_upper_left_corner[0], new_upper_left_corner[1],\n",
        "                                 new_lower_right_corner[0], new_lower_right_corner[1]])\n",
        "        return new_bbox\n",
        "\n",
        "    def rotate_image(self):\n",
        "        \"\"\"\n",
        "        Rotates an image (angle in degrees) and expands image to avoid cropping\n",
        "        \"\"\"\n",
        "        height, width = self.image.shape[:2]  # image shape has 3 dimensions\n",
        "        image_center = (width / 2,\n",
        "                        height / 2)  # getRotationMatrix2D needs coordinates in reverse order (width, height) compared to shape\n",
        "        rotation_mat = cv2.getRotationMatrix2D(image_center, self.angle, 1.)\n",
        "        # rotation calculates the cos and sin, taking absolutes of those.\n",
        "        abs_cos = abs(rotation_mat[0, 0])\n",
        "        abs_sin = abs(rotation_mat[0, 1])\n",
        "        # find the new width and height bounds\n",
        "        bound_w = int(height * abs_sin + width * abs_cos)\n",
        "        bound_h = int(height * abs_cos + width * abs_sin)\n",
        "        # subtract old image center (bringing image back to origin) and adding the new image center coordinates\n",
        "        rotation_mat[0, 2] += bound_w / 2 - image_center[0]\n",
        "        rotation_mat[1, 2] += bound_h / 2 - image_center[1]\n",
        "        # rotate image with the new bounds and translated rotation matrix\n",
        "        rotated_mat = cv2.warpAffine(self.image, rotation_mat, (bound_w, bound_h))\n",
        "        return rotated_mat"
      ]
    },
    {
      "cell_type": "markdown",
      "id": "d4ebc4dd",
      "metadata": {
        "id": "d4ebc4dd"
      },
      "source": [
        "## Perform Rotation"
      ]
    },
    {
      "cell_type": "code",
      "execution_count": null,
      "id": "aeca8088",
      "metadata": {
        "id": "aeca8088"
      },
      "outputs": [],
      "source": [
        "#cd to image,labels folder before executing\n",
        "angels=[45,90]\n",
        "for filename in tqdm(os.listdir(\"path/to/images/and/labels/folder/\")):\n",
        "    file =filename.split(\".\")\n",
        "    if(file[-1]==\"jpg\"):\n",
        "        image_name=file[0]\n",
        "        image_ext=\".\"+file[1]\n",
        "        print(image_name)\n",
        "        print(image_ext)\n",
        "    else:\n",
        "        continue\n",
        "    for angle in angels:\n",
        "        im = yoloRotatebbox(image_name, image_ext, angle)\n",
        "        bbox = im.rotateYolobbox()\n",
        "        image = im.rotate_image()\n",
        "        # to write rotated image to disk\n",
        "        cv2.imwrite(image_name+'_' + str(angle) + '.jpg', image)\n",
        "        file_name = image_name+'_' + str(angle) + '.txt'\n",
        "        #print(\"For angle \"+str(angle))\n",
        "        if os.path.exists(file_name):\n",
        "            os.remove(file_name)\n",
        "            # to write the new rotated bboxes to file\n",
        "        for i in bbox:\n",
        "            with open(file_name, 'a') as fout:\n",
        "                fout.writelines(' '.join(map(str, cvFormattoYolo(i, im.rotate_image().shape[0], im.rotate_image().shape[1]))) + '\\n')\n"
      ]
    },
    {
      "cell_type": "markdown",
      "id": "45e4f062",
      "metadata": {
        "id": "45e4f062"
      },
      "source": [
        "## Perform Noise and Saturation to rotated images"
      ]
    },
    {
      "cell_type": "code",
      "execution_count": null,
      "id": "c0fe1665",
      "metadata": {
        "id": "c0fe1665"
      },
      "outputs": [],
      "source": [
        "#cd to image folder before executing\n",
        "for file in tqdm(os.listdir(\"path/to/images/folder/\")):\n",
        "    filepath=file.split(\"/\")\n",
        "    filename=filepath[-1]\n",
        "    image = cv2.imread(filename)\n",
        "    #apply noise using gaussian filter\n",
        "    new_img = random_noise(image, mode=\"gaussian\")\n",
        "    new_img = np.array(255*new_img, dtype=\"uint8\")\n",
        "    #apply contrast\n",
        "    new_img=Image.fromarray(new_img)\n",
        "    new_img = ImageEnhance.Contrast(new_img)\n",
        "    new_imag = new_img.enhance(2)\n",
        "    new_img=np.array(new_imag)\n",
        "    cv2.imwrite(\"dest/path/\"+filename, new_img)\n",
        ""
      ]
    }
  ],
  "metadata": {
    "kernelspec": {
      "display_name": "Python 3 (ipykernel)",
      "language": "python",
      "name": "python3"
    },
    "language_info": {
      "codemirror_mode": {
        "name": "ipython",
        "version": 3
      },
      "file_extension": ".py",
      "mimetype": "text/x-python",
      "name": "python",
      "nbconvert_exporter": "python",
      "pygments_lexer": "ipython3",
      "version": "3.9.13"
    },
    "colab": {
      "provenance": []
    }
  },
  "nbformat": 4,
  "nbformat_minor": 5
}